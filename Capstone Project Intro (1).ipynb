{
 "cells": [
  {
   "cell_type": "markdown",
   "metadata": {},
   "source": [
    "# _Introduction/Business Problem_"
   ]
  },
  {
   "cell_type": "markdown",
   "metadata": {},
   "source": [
    "With the 2020 election cycle finally coming to a dramatic close, the Democratic Party scored a big victory by taking both available Senate seats up for grab in the Georgia special elections. Raphael Warnock and Jon Ossoff came through with major victories that secured Senate Majority for the Democratic party.\n",
    "\n",
    "In this project, I intend to analyze the result of Jon Ossoff and David Perdue's race specifically by comparing the results of the November General Election reults and the Special Election. During the General Election, we actually saw Perdue actually squeak out a victory but because he failed to receive 50% of the vote, Georgia was legally obligated to run a special election. I will mainly be comparing and contrasting the election results in each county, seeing if I can identify and explain the trends that caused the changes that ultimately brought Jon Ossoff his victory. Regardless of where you stand on the political spectrum, this race has very valuable information that politicians can use in their own campaigns moving forward. "
   ]
  },
  {
   "cell_type": "markdown",
   "metadata": {},
   "source": [
    "# _The Data_"
   ]
  },
  {
   "cell_type": "markdown",
   "metadata": {},
   "source": [
    "The Georgia Secretary of State government website contains the election data of both elections that I mentioned in the business problem above. It breaks down the votes by candidate in each county in Georgia. I intend to also do specific research about counties (past events, previous election results, demographic breakdowns) to add further context to my analysis. "
   ]
  },
  {
   "cell_type": "code",
   "execution_count": null,
   "metadata": {},
   "outputs": [],
   "source": []
  }
 ],
 "metadata": {
  "kernelspec": {
   "display_name": "Python 3",
   "language": "python",
   "name": "python3"
  },
  "language_info": {
   "codemirror_mode": {
    "name": "ipython",
    "version": 3
   },
   "file_extension": ".py",
   "mimetype": "text/x-python",
   "name": "python",
   "nbconvert_exporter": "python",
   "pygments_lexer": "ipython3",
   "version": "3.7.6"
  }
 },
 "nbformat": 4,
 "nbformat_minor": 4
}
